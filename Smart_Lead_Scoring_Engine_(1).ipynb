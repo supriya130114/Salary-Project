{
  "cells": [
    {
      "cell_type": "markdown",
      "metadata": {
        "id": "view-in-github",
        "colab_type": "text"
      },
      "source": [
        "<a href=\"https://colab.research.google.com/github/supriya130114/Salary-Project/blob/main/Smart_Lead_Scoring_Engine_(1).ipynb\" target=\"_parent\"><img src=\"https://colab.research.google.com/assets/colab-badge.svg\" alt=\"Open In Colab\"/></a>"
      ]
    },
    {
      "cell_type": "markdown",
      "metadata": {
        "id": "b67ebcd4"
      },
      "source": [
        "import all necessary library"
      ],
      "id": "b67ebcd4"
    },
    {
      "cell_type": "code",
      "execution_count": 1,
      "metadata": {
        "id": "1c6eabed",
        "colab": {
          "base_uri": "https://localhost:8080/"
        },
        "outputId": "290f7d3f-ea30-42aa-a361-bb9cbf9dc810"
      },
      "outputs": [
        {
          "output_type": "stream",
          "name": "stderr",
          "text": [
            "/usr/local/lib/python3.7/dist-packages/statsmodels/tools/_testing.py:19: FutureWarning: pandas.util.testing is deprecated. Use the functions in the public API at pandas.testing instead.\n",
            "  import pandas.util.testing as tm\n"
          ]
        }
      ],
      "source": [
        "import pandas as pd\n",
        "import numpy as np\n",
        "import matplotlib.pyplot as plt\n",
        "import seaborn as sns\n",
        "import pickle\n",
        "from sklearn.linear_model import LinearRegression\n",
        "from sklearn.model_selection import train_test_split\n",
        "import statsmodels.api as sm\n"
      ],
      "id": "1c6eabed"
    },
    {
      "cell_type": "markdown",
      "metadata": {
        "id": "e4ebc1ef"
      },
      "source": [
        "extract the dataset"
      ],
      "id": "e4ebc1ef"
    },
    {
      "cell_type": "code",
      "execution_count": null,
      "metadata": {
        "colab": {
          "background_save": true,
          "base_uri": "https://localhost:8080/",
          "height": 38,
          "resources": {
            "http://localhost:8080/nbextensions/google.colab/files.js": {
              "data": "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",
              "headers": [
                [
                  "content-type",
                  "application/javascript"
                ]
              ],
              "ok": true,
              "status": 200,
              "status_text": ""
            }
          }
        },
        "id": "8ac8ee15",
        "outputId": "39bbbe1a-cd16-49dc-8df2-e0b9442b4e17"
      },
      "outputs": [
        {
          "data": {
            "text/html": [
              "\n",
              "     <input type=\"file\" id=\"files-1b068960-b56c-43b4-a035-daad86f57b00\" name=\"files[]\" multiple disabled\n",
              "        style=\"border:none\" />\n",
              "     <output id=\"result-1b068960-b56c-43b4-a035-daad86f57b00\">\n",
              "      Upload widget is only available when the cell has been executed in the\n",
              "      current browser session. Please rerun this cell to enable.\n",
              "      </output>\n",
              "      <script src=\"/nbextensions/google.colab/files.js\"></script> "
            ],
            "text/plain": [
              "<IPython.core.display.HTML object>"
            ]
          },
          "metadata": {},
          "output_type": "display_data"
        },
        {
          "ename": "TypeError",
          "evalue": "ignored",
          "output_type": "error",
          "traceback": [
            "\u001b[0;31m---------------------------------------------------------------------------\u001b[0m",
            "\u001b[0;31mTypeError\u001b[0m                                 Traceback (most recent call last)",
            "\u001b[0;32m<ipython-input-26-e2978f0c15af>\u001b[0m in \u001b[0;36m<module>\u001b[0;34m()\u001b[0m\n\u001b[1;32m      2\u001b[0m \u001b[0;32mimport\u001b[0m \u001b[0mio\u001b[0m\u001b[0;34m\u001b[0m\u001b[0;34m\u001b[0m\u001b[0m\n\u001b[1;32m      3\u001b[0m \u001b[0;32mfrom\u001b[0m \u001b[0mgoogle\u001b[0m\u001b[0;34m.\u001b[0m\u001b[0mcolab\u001b[0m \u001b[0;32mimport\u001b[0m \u001b[0mfiles\u001b[0m\u001b[0;34m\u001b[0m\u001b[0;34m\u001b[0m\u001b[0m\n\u001b[0;32m----> 4\u001b[0;31m \u001b[0muploaded\u001b[0m \u001b[0;34m=\u001b[0m \u001b[0mfiles\u001b[0m\u001b[0;34m.\u001b[0m\u001b[0mupload\u001b[0m\u001b[0;34m(\u001b[0m\u001b[0;34m)\u001b[0m\u001b[0;34m\u001b[0m\u001b[0;34m\u001b[0m\u001b[0m\n\u001b[0m",
            "\u001b[0;32m/usr/local/lib/python3.7/dist-packages/google/colab/files.py\u001b[0m in \u001b[0;36mupload\u001b[0;34m()\u001b[0m\n\u001b[1;32m     44\u001b[0m   \"\"\"\n\u001b[1;32m     45\u001b[0m \u001b[0;34m\u001b[0m\u001b[0m\n\u001b[0;32m---> 46\u001b[0;31m   \u001b[0muploaded_files\u001b[0m \u001b[0;34m=\u001b[0m \u001b[0m_upload_files\u001b[0m\u001b[0;34m(\u001b[0m\u001b[0mmultiple\u001b[0m\u001b[0;34m=\u001b[0m\u001b[0;32mTrue\u001b[0m\u001b[0;34m)\u001b[0m\u001b[0;34m\u001b[0m\u001b[0;34m\u001b[0m\u001b[0m\n\u001b[0m\u001b[1;32m     47\u001b[0m   \u001b[0;31m# Mapping from original filename to filename as saved locally.\u001b[0m\u001b[0;34m\u001b[0m\u001b[0;34m\u001b[0m\u001b[0;34m\u001b[0m\u001b[0m\n\u001b[1;32m     48\u001b[0m   \u001b[0mlocal_filenames\u001b[0m \u001b[0;34m=\u001b[0m \u001b[0mdict\u001b[0m\u001b[0;34m(\u001b[0m\u001b[0;34m)\u001b[0m\u001b[0;34m\u001b[0m\u001b[0;34m\u001b[0m\u001b[0m\n",
            "\u001b[0;32m/usr/local/lib/python3.7/dist-packages/google/colab/files.py\u001b[0m in \u001b[0;36m_upload_files\u001b[0;34m(multiple)\u001b[0m\n\u001b[1;32m    124\u001b[0m   \u001b[0mfiles\u001b[0m \u001b[0;34m=\u001b[0m \u001b[0m_collections\u001b[0m\u001b[0;34m.\u001b[0m\u001b[0mdefaultdict\u001b[0m\u001b[0;34m(\u001b[0m\u001b[0m_six\u001b[0m\u001b[0;34m.\u001b[0m\u001b[0mbinary_type\u001b[0m\u001b[0;34m)\u001b[0m\u001b[0;34m\u001b[0m\u001b[0;34m\u001b[0m\u001b[0m\n\u001b[1;32m    125\u001b[0m \u001b[0;34m\u001b[0m\u001b[0m\n\u001b[0;32m--> 126\u001b[0;31m   \u001b[0;32mwhile\u001b[0m \u001b[0mresult\u001b[0m\u001b[0;34m[\u001b[0m\u001b[0;34m'action'\u001b[0m\u001b[0;34m]\u001b[0m \u001b[0;34m!=\u001b[0m \u001b[0;34m'complete'\u001b[0m\u001b[0;34m:\u001b[0m\u001b[0;34m\u001b[0m\u001b[0;34m\u001b[0m\u001b[0m\n\u001b[0m\u001b[1;32m    127\u001b[0m     result = _output.eval_js(\n\u001b[1;32m    128\u001b[0m         'google.colab._files._uploadFilesContinue(\"{output_id}\")'.format(\n",
            "\u001b[0;31mTypeError\u001b[0m: 'NoneType' object is not subscriptable"
          ]
        }
      ],
      "source": [
        "import pandas as pd\n",
        "import io\n",
        "from google.colab import files\n",
        "uploaded = files.upload()\n"
      ],
      "id": "8ac8ee15"
    },
    {
      "cell_type": "code",
      "execution_count": 2,
      "metadata": {
        "colab": {
          "base_uri": "https://localhost:8080/",
          "height": 347
        },
        "id": "nXElZ2sqkxpH",
        "outputId": "655c1864-7b5b-4456-9c61-553d1d835fee"
      },
      "outputs": [
        {
          "output_type": "error",
          "ename": "FileNotFoundError",
          "evalue": "ignored",
          "traceback": [
            "\u001b[0;31m---------------------------------------------------------------------------\u001b[0m",
            "\u001b[0;31mFileNotFoundError\u001b[0m                         Traceback (most recent call last)",
            "\u001b[0;32m<ipython-input-2-16b5ed9a1fd3>\u001b[0m in \u001b[0;36m<module>\u001b[0;34m()\u001b[0m\n\u001b[0;32m----> 1\u001b[0;31m \u001b[0mdata\u001b[0m\u001b[0;34m=\u001b[0m\u001b[0mpd\u001b[0m\u001b[0;34m.\u001b[0m\u001b[0mread_csv\u001b[0m\u001b[0;34m(\u001b[0m\u001b[0;34m\"train_wn75k28.csv.csv\"\u001b[0m\u001b[0;34m)\u001b[0m\u001b[0;34m\u001b[0m\u001b[0;34m\u001b[0m\u001b[0m\n\u001b[0m\u001b[1;32m      2\u001b[0m \u001b[0mdata\u001b[0m\u001b[0;34m.\u001b[0m\u001b[0mhead\u001b[0m\u001b[0;34m(\u001b[0m\u001b[0;34m)\u001b[0m\u001b[0;34m\u001b[0m\u001b[0;34m\u001b[0m\u001b[0m\n",
            "\u001b[0;32m/usr/local/lib/python3.7/dist-packages/pandas/util/_decorators.py\u001b[0m in \u001b[0;36mwrapper\u001b[0;34m(*args, **kwargs)\u001b[0m\n\u001b[1;32m    309\u001b[0m                     \u001b[0mstacklevel\u001b[0m\u001b[0;34m=\u001b[0m\u001b[0mstacklevel\u001b[0m\u001b[0;34m,\u001b[0m\u001b[0;34m\u001b[0m\u001b[0;34m\u001b[0m\u001b[0m\n\u001b[1;32m    310\u001b[0m                 )\n\u001b[0;32m--> 311\u001b[0;31m             \u001b[0;32mreturn\u001b[0m \u001b[0mfunc\u001b[0m\u001b[0;34m(\u001b[0m\u001b[0;34m*\u001b[0m\u001b[0margs\u001b[0m\u001b[0;34m,\u001b[0m \u001b[0;34m**\u001b[0m\u001b[0mkwargs\u001b[0m\u001b[0;34m)\u001b[0m\u001b[0;34m\u001b[0m\u001b[0;34m\u001b[0m\u001b[0m\n\u001b[0m\u001b[1;32m    312\u001b[0m \u001b[0;34m\u001b[0m\u001b[0m\n\u001b[1;32m    313\u001b[0m         \u001b[0;32mreturn\u001b[0m \u001b[0mwrapper\u001b[0m\u001b[0;34m\u001b[0m\u001b[0;34m\u001b[0m\u001b[0m\n",
            "\u001b[0;32m/usr/local/lib/python3.7/dist-packages/pandas/io/parsers/readers.py\u001b[0m in \u001b[0;36mread_csv\u001b[0;34m(filepath_or_buffer, sep, delimiter, header, names, index_col, usecols, squeeze, prefix, mangle_dupe_cols, dtype, engine, converters, true_values, false_values, skipinitialspace, skiprows, skipfooter, nrows, na_values, keep_default_na, na_filter, verbose, skip_blank_lines, parse_dates, infer_datetime_format, keep_date_col, date_parser, dayfirst, cache_dates, iterator, chunksize, compression, thousands, decimal, lineterminator, quotechar, quoting, doublequote, escapechar, comment, encoding, encoding_errors, dialect, error_bad_lines, warn_bad_lines, on_bad_lines, delim_whitespace, low_memory, memory_map, float_precision, storage_options)\u001b[0m\n\u001b[1;32m    584\u001b[0m     \u001b[0mkwds\u001b[0m\u001b[0;34m.\u001b[0m\u001b[0mupdate\u001b[0m\u001b[0;34m(\u001b[0m\u001b[0mkwds_defaults\u001b[0m\u001b[0;34m)\u001b[0m\u001b[0;34m\u001b[0m\u001b[0;34m\u001b[0m\u001b[0m\n\u001b[1;32m    585\u001b[0m \u001b[0;34m\u001b[0m\u001b[0m\n\u001b[0;32m--> 586\u001b[0;31m     \u001b[0;32mreturn\u001b[0m \u001b[0m_read\u001b[0m\u001b[0;34m(\u001b[0m\u001b[0mfilepath_or_buffer\u001b[0m\u001b[0;34m,\u001b[0m \u001b[0mkwds\u001b[0m\u001b[0;34m)\u001b[0m\u001b[0;34m\u001b[0m\u001b[0;34m\u001b[0m\u001b[0m\n\u001b[0m\u001b[1;32m    587\u001b[0m \u001b[0;34m\u001b[0m\u001b[0m\n\u001b[1;32m    588\u001b[0m \u001b[0;34m\u001b[0m\u001b[0m\n",
            "\u001b[0;32m/usr/local/lib/python3.7/dist-packages/pandas/io/parsers/readers.py\u001b[0m in \u001b[0;36m_read\u001b[0;34m(filepath_or_buffer, kwds)\u001b[0m\n\u001b[1;32m    480\u001b[0m \u001b[0;34m\u001b[0m\u001b[0m\n\u001b[1;32m    481\u001b[0m     \u001b[0;31m# Create the parser.\u001b[0m\u001b[0;34m\u001b[0m\u001b[0;34m\u001b[0m\u001b[0;34m\u001b[0m\u001b[0m\n\u001b[0;32m--> 482\u001b[0;31m     \u001b[0mparser\u001b[0m \u001b[0;34m=\u001b[0m \u001b[0mTextFileReader\u001b[0m\u001b[0;34m(\u001b[0m\u001b[0mfilepath_or_buffer\u001b[0m\u001b[0;34m,\u001b[0m \u001b[0;34m**\u001b[0m\u001b[0mkwds\u001b[0m\u001b[0;34m)\u001b[0m\u001b[0;34m\u001b[0m\u001b[0;34m\u001b[0m\u001b[0m\n\u001b[0m\u001b[1;32m    483\u001b[0m \u001b[0;34m\u001b[0m\u001b[0m\n\u001b[1;32m    484\u001b[0m     \u001b[0;32mif\u001b[0m \u001b[0mchunksize\u001b[0m \u001b[0;32mor\u001b[0m \u001b[0miterator\u001b[0m\u001b[0;34m:\u001b[0m\u001b[0;34m\u001b[0m\u001b[0;34m\u001b[0m\u001b[0m\n",
            "\u001b[0;32m/usr/local/lib/python3.7/dist-packages/pandas/io/parsers/readers.py\u001b[0m in \u001b[0;36m__init__\u001b[0;34m(self, f, engine, **kwds)\u001b[0m\n\u001b[1;32m    809\u001b[0m             \u001b[0mself\u001b[0m\u001b[0;34m.\u001b[0m\u001b[0moptions\u001b[0m\u001b[0;34m[\u001b[0m\u001b[0;34m\"has_index_names\"\u001b[0m\u001b[0;34m]\u001b[0m \u001b[0;34m=\u001b[0m \u001b[0mkwds\u001b[0m\u001b[0;34m[\u001b[0m\u001b[0;34m\"has_index_names\"\u001b[0m\u001b[0;34m]\u001b[0m\u001b[0;34m\u001b[0m\u001b[0;34m\u001b[0m\u001b[0m\n\u001b[1;32m    810\u001b[0m \u001b[0;34m\u001b[0m\u001b[0m\n\u001b[0;32m--> 811\u001b[0;31m         \u001b[0mself\u001b[0m\u001b[0;34m.\u001b[0m\u001b[0m_engine\u001b[0m \u001b[0;34m=\u001b[0m \u001b[0mself\u001b[0m\u001b[0;34m.\u001b[0m\u001b[0m_make_engine\u001b[0m\u001b[0;34m(\u001b[0m\u001b[0mself\u001b[0m\u001b[0;34m.\u001b[0m\u001b[0mengine\u001b[0m\u001b[0;34m)\u001b[0m\u001b[0;34m\u001b[0m\u001b[0;34m\u001b[0m\u001b[0m\n\u001b[0m\u001b[1;32m    812\u001b[0m \u001b[0;34m\u001b[0m\u001b[0m\n\u001b[1;32m    813\u001b[0m     \u001b[0;32mdef\u001b[0m \u001b[0mclose\u001b[0m\u001b[0;34m(\u001b[0m\u001b[0mself\u001b[0m\u001b[0;34m)\u001b[0m\u001b[0;34m:\u001b[0m\u001b[0;34m\u001b[0m\u001b[0;34m\u001b[0m\u001b[0m\n",
            "\u001b[0;32m/usr/local/lib/python3.7/dist-packages/pandas/io/parsers/readers.py\u001b[0m in \u001b[0;36m_make_engine\u001b[0;34m(self, engine)\u001b[0m\n\u001b[1;32m   1038\u001b[0m             )\n\u001b[1;32m   1039\u001b[0m         \u001b[0;31m# error: Too many arguments for \"ParserBase\"\u001b[0m\u001b[0;34m\u001b[0m\u001b[0;34m\u001b[0m\u001b[0;34m\u001b[0m\u001b[0m\n\u001b[0;32m-> 1040\u001b[0;31m         \u001b[0;32mreturn\u001b[0m \u001b[0mmapping\u001b[0m\u001b[0;34m[\u001b[0m\u001b[0mengine\u001b[0m\u001b[0;34m]\u001b[0m\u001b[0;34m(\u001b[0m\u001b[0mself\u001b[0m\u001b[0;34m.\u001b[0m\u001b[0mf\u001b[0m\u001b[0;34m,\u001b[0m \u001b[0;34m**\u001b[0m\u001b[0mself\u001b[0m\u001b[0;34m.\u001b[0m\u001b[0moptions\u001b[0m\u001b[0;34m)\u001b[0m  \u001b[0;31m# type: ignore[call-arg]\u001b[0m\u001b[0;34m\u001b[0m\u001b[0;34m\u001b[0m\u001b[0m\n\u001b[0m\u001b[1;32m   1041\u001b[0m \u001b[0;34m\u001b[0m\u001b[0m\n\u001b[1;32m   1042\u001b[0m     \u001b[0;32mdef\u001b[0m \u001b[0m_failover_to_python\u001b[0m\u001b[0;34m(\u001b[0m\u001b[0mself\u001b[0m\u001b[0;34m)\u001b[0m\u001b[0;34m:\u001b[0m\u001b[0;34m\u001b[0m\u001b[0;34m\u001b[0m\u001b[0m\n",
            "\u001b[0;32m/usr/local/lib/python3.7/dist-packages/pandas/io/parsers/c_parser_wrapper.py\u001b[0m in \u001b[0;36m__init__\u001b[0;34m(self, src, **kwds)\u001b[0m\n\u001b[1;32m     49\u001b[0m \u001b[0;34m\u001b[0m\u001b[0m\n\u001b[1;32m     50\u001b[0m         \u001b[0;31m# open handles\u001b[0m\u001b[0;34m\u001b[0m\u001b[0;34m\u001b[0m\u001b[0;34m\u001b[0m\u001b[0m\n\u001b[0;32m---> 51\u001b[0;31m         \u001b[0mself\u001b[0m\u001b[0;34m.\u001b[0m\u001b[0m_open_handles\u001b[0m\u001b[0;34m(\u001b[0m\u001b[0msrc\u001b[0m\u001b[0;34m,\u001b[0m \u001b[0mkwds\u001b[0m\u001b[0;34m)\u001b[0m\u001b[0;34m\u001b[0m\u001b[0;34m\u001b[0m\u001b[0m\n\u001b[0m\u001b[1;32m     52\u001b[0m         \u001b[0;32massert\u001b[0m \u001b[0mself\u001b[0m\u001b[0;34m.\u001b[0m\u001b[0mhandles\u001b[0m \u001b[0;32mis\u001b[0m \u001b[0;32mnot\u001b[0m \u001b[0;32mNone\u001b[0m\u001b[0;34m\u001b[0m\u001b[0;34m\u001b[0m\u001b[0m\n\u001b[1;32m     53\u001b[0m \u001b[0;34m\u001b[0m\u001b[0m\n",
            "\u001b[0;32m/usr/local/lib/python3.7/dist-packages/pandas/io/parsers/base_parser.py\u001b[0m in \u001b[0;36m_open_handles\u001b[0;34m(self, src, kwds)\u001b[0m\n\u001b[1;32m    227\u001b[0m             \u001b[0mmemory_map\u001b[0m\u001b[0;34m=\u001b[0m\u001b[0mkwds\u001b[0m\u001b[0;34m.\u001b[0m\u001b[0mget\u001b[0m\u001b[0;34m(\u001b[0m\u001b[0;34m\"memory_map\"\u001b[0m\u001b[0;34m,\u001b[0m \u001b[0;32mFalse\u001b[0m\u001b[0;34m)\u001b[0m\u001b[0;34m,\u001b[0m\u001b[0;34m\u001b[0m\u001b[0;34m\u001b[0m\u001b[0m\n\u001b[1;32m    228\u001b[0m             \u001b[0mstorage_options\u001b[0m\u001b[0;34m=\u001b[0m\u001b[0mkwds\u001b[0m\u001b[0;34m.\u001b[0m\u001b[0mget\u001b[0m\u001b[0;34m(\u001b[0m\u001b[0;34m\"storage_options\"\u001b[0m\u001b[0;34m,\u001b[0m \u001b[0;32mNone\u001b[0m\u001b[0;34m)\u001b[0m\u001b[0;34m,\u001b[0m\u001b[0;34m\u001b[0m\u001b[0;34m\u001b[0m\u001b[0m\n\u001b[0;32m--> 229\u001b[0;31m             \u001b[0merrors\u001b[0m\u001b[0;34m=\u001b[0m\u001b[0mkwds\u001b[0m\u001b[0;34m.\u001b[0m\u001b[0mget\u001b[0m\u001b[0;34m(\u001b[0m\u001b[0;34m\"encoding_errors\"\u001b[0m\u001b[0;34m,\u001b[0m \u001b[0;34m\"strict\"\u001b[0m\u001b[0;34m)\u001b[0m\u001b[0;34m,\u001b[0m\u001b[0;34m\u001b[0m\u001b[0;34m\u001b[0m\u001b[0m\n\u001b[0m\u001b[1;32m    230\u001b[0m         )\n\u001b[1;32m    231\u001b[0m \u001b[0;34m\u001b[0m\u001b[0m\n",
            "\u001b[0;32m/usr/local/lib/python3.7/dist-packages/pandas/io/common.py\u001b[0m in \u001b[0;36mget_handle\u001b[0;34m(path_or_buf, mode, encoding, compression, memory_map, is_text, errors, storage_options)\u001b[0m\n\u001b[1;32m    705\u001b[0m                 \u001b[0mencoding\u001b[0m\u001b[0;34m=\u001b[0m\u001b[0mioargs\u001b[0m\u001b[0;34m.\u001b[0m\u001b[0mencoding\u001b[0m\u001b[0;34m,\u001b[0m\u001b[0;34m\u001b[0m\u001b[0;34m\u001b[0m\u001b[0m\n\u001b[1;32m    706\u001b[0m                 \u001b[0merrors\u001b[0m\u001b[0;34m=\u001b[0m\u001b[0merrors\u001b[0m\u001b[0;34m,\u001b[0m\u001b[0;34m\u001b[0m\u001b[0;34m\u001b[0m\u001b[0m\n\u001b[0;32m--> 707\u001b[0;31m                 \u001b[0mnewline\u001b[0m\u001b[0;34m=\u001b[0m\u001b[0;34m\"\"\u001b[0m\u001b[0;34m,\u001b[0m\u001b[0;34m\u001b[0m\u001b[0;34m\u001b[0m\u001b[0m\n\u001b[0m\u001b[1;32m    708\u001b[0m             )\n\u001b[1;32m    709\u001b[0m         \u001b[0;32melse\u001b[0m\u001b[0;34m:\u001b[0m\u001b[0;34m\u001b[0m\u001b[0;34m\u001b[0m\u001b[0m\n",
            "\u001b[0;31mFileNotFoundError\u001b[0m: [Errno 2] No such file or directory: 'train_wn75k28.csv.csv'"
          ]
        }
      ],
      "source": [
        "data=pd.read_csv(\"train_wn75k28.csv\")\n",
        "data.head()"
      ],
      "id": "nXElZ2sqkxpH"
    },
    {
      "cell_type": "code",
      "execution_count": null,
      "metadata": {
        "colab": {
          "background_save": true
        },
        "id": "5f3c4ff7"
      },
      "outputs": [],
      "source": [
        "data.shape"
      ],
      "id": "5f3c4ff7"
    },
    {
      "cell_type": "markdown",
      "metadata": {
        "id": "01ff4ce5"
      },
      "source": [
        "data contains 39161 rows and 19 columns"
      ],
      "id": "01ff4ce5"
    },
    {
      "cell_type": "markdown",
      "metadata": {
        "id": "bfe218c1"
      },
      "source": [
        "lets we will check the null valuse present in our dataset if any.."
      ],
      "id": "bfe218c1"
    },
    {
      "cell_type": "code",
      "execution_count": null,
      "metadata": {
        "colab": {
          "background_save": true
        },
        "id": "c32e4575",
        "scrolled": true
      },
      "outputs": [],
      "source": [
        "data.isnull().sum()"
      ],
      "id": "c32e4575"
    },
    {
      "cell_type": "markdown",
      "metadata": {
        "id": "fd3e734d"
      },
      "source": [
        "data contains some null values in two column as shown above"
      ],
      "id": "fd3e734d"
    },
    {
      "cell_type": "code",
      "execution_count": null,
      "metadata": {
        "colab": {
          "background_save": true
        },
        "id": "9b313b16",
        "scrolled": true
      },
      "outputs": [],
      "source": [
        "data.info()"
      ],
      "id": "9b313b16"
    },
    {
      "cell_type": "markdown",
      "metadata": {
        "id": "6c36c1bb"
      },
      "source": [
        "it gives the detail information about the data with data type,it shows that two column 'created_at' & 'signup_date' has object type of data lets we will encode it "
      ],
      "id": "6c36c1bb"
    },
    {
      "cell_type": "markdown",
      "metadata": {
        "id": "1a4515b9"
      },
      "source": [
        "# data encoding"
      ],
      "id": "1a4515b9"
    },
    {
      "cell_type": "code",
      "execution_count": null,
      "metadata": {
        "colab": {
          "background_save": true
        },
        "id": "27cece75"
      },
      "outputs": [],
      "source": [
        "from sklearn.preprocessing import LabelEncoder"
      ],
      "id": "27cece75"
    },
    {
      "cell_type": "code",
      "execution_count": null,
      "metadata": {
        "colab": {
          "background_save": true
        },
        "id": "c721f78c"
      },
      "outputs": [],
      "source": [
        "le=LabelEncoder()\n",
        "label=le.fit_transform(data[\"created_at\"])\n",
        "label\n",
        "data=data.drop(\"created_at\",axis='columns')\n",
        "data[\"created_at\"]=label"
      ],
      "id": "c721f78c"
    },
    {
      "cell_type": "code",
      "execution_count": null,
      "metadata": {
        "colab": {
          "background_save": true
        },
        "id": "100573ee",
        "scrolled": true
      },
      "outputs": [],
      "source": [
        "le=LabelEncoder()\n",
        "label=le.fit_transform(data[\"signup_date\"])\n",
        "label\n",
        "data=data.drop(\"signup_date\",axis='columns')\n",
        "data[\"signup_date\"]=label\n",
        "data"
      ],
      "id": "100573ee"
    },
    {
      "cell_type": "code",
      "execution_count": null,
      "metadata": {
        "colab": {
          "background_save": true
        },
        "id": "9137497c",
        "scrolled": true
      },
      "outputs": [],
      "source": [
        "data.isnull().sum()"
      ],
      "id": "9137497c"
    },
    {
      "cell_type": "markdown",
      "metadata": {
        "id": "b46dd117"
      },
      "source": [
        "lets we fill null values by mode function "
      ],
      "id": "b46dd117"
    },
    {
      "cell_type": "code",
      "execution_count": null,
      "metadata": {
        "colab": {
          "background_save": true
        },
        "id": "877df4c6"
      },
      "outputs": [],
      "source": [
        "data['products_purchased']=data['products_purchased'].fillna(data['products_purchased'].mode()[0])\n"
      ],
      "id": "877df4c6"
    },
    {
      "cell_type": "code",
      "execution_count": null,
      "metadata": {
        "colab": {
          "background_save": true
        },
        "id": "ba583de6",
        "scrolled": true
      },
      "outputs": [],
      "source": [
        "data.isnull().sum()"
      ],
      "id": "ba583de6"
    },
    {
      "cell_type": "markdown",
      "metadata": {
        "id": "467e57f4"
      },
      "source": [
        "there is no any null values now in dataset"
      ],
      "id": "467e57f4"
    },
    {
      "cell_type": "code",
      "execution_count": null,
      "metadata": {
        "colab": {
          "background_save": true
        },
        "id": "b229e7be",
        "scrolled": false
      },
      "outputs": [],
      "source": [
        "data.describe()"
      ],
      "id": "b229e7be"
    },
    {
      "cell_type": "markdown",
      "metadata": {
        "id": "7b6a6fe0"
      },
      "source": [
        "it gives the detail description about the dataset with its std,mean and mini to max distribution of data in each column,now as some column has mini zero values in it lets we will remove it by mean of respective columns"
      ],
      "id": "7b6a6fe0"
    },
    {
      "cell_type": "code",
      "execution_count": null,
      "metadata": {
        "colab": {
          "background_save": true
        },
        "id": "c5fd030b"
      },
      "outputs": [],
      "source": [
        "data['user_activity_var_1']=data['user_activity_var_1'].replace(0,data['user_activity_var_1'].mean())\n",
        "data['user_activity_var_2']=data['user_activity_var_2'].replace(0,data['user_activity_var_2'].mean())\n",
        "data['user_activity_var_3']=data['user_activity_var_3'].replace(0,data['user_activity_var_3'].mean())\n",
        "data['user_activity_var_4']=data['user_activity_var_4'].replace(0,data['user_activity_var_4'].mean())\n",
        "data['user_activity_var_5']=data['user_activity_var_5'].replace(0,data['user_activity_var_5'].mean())\n",
        "data['user_activity_var_6']=data['user_activity_var_6'].replace(0,data['user_activity_var_6'].mean())\n",
        "data['user_activity_var_7']=data['user_activity_var_7'].replace(0,data['user_activity_var_7'].mean())\n",
        "data['user_activity_var_8']=data['user_activity_var_8'].replace(0,data['user_activity_var_8'].mean())\n",
        "data['user_activity_var_9']=data['user_activity_var_9'].replace(0,data['user_activity_var_9'].mean())\n",
        "data['user_activity_var_10']=data['user_activity_var_10'].replace(0,data['user_activity_var_10'].mean())\n",
        "data['user_activity_var_11']=data['user_activity_var_11'].replace(0,data['user_activity_var_11'].mean())\n",
        "data['user_activity_var_12']=data['user_activity_var_12'].replace(0,data['user_activity_var_12'].mean())\n",
        "data['created_at']=data['created_at'].replace(0,data['created_at'].mean())\n",
        "data['signup_date']=data['signup_date'].replace(0,data['signup_date'].mean())"
      ],
      "id": "c5fd030b"
    },
    {
      "cell_type": "code",
      "execution_count": null,
      "metadata": {
        "colab": {
          "background_save": true
        },
        "id": "a90410bc",
        "scrolled": true
      },
      "outputs": [],
      "source": [
        "data.info()"
      ],
      "id": "a90410bc"
    },
    {
      "cell_type": "code",
      "execution_count": null,
      "metadata": {
        "colab": {
          "background_save": true
        },
        "id": "6a38bc19",
        "scrolled": true
      },
      "outputs": [],
      "source": [
        "data.describe()"
      ],
      "id": "6a38bc19"
    },
    {
      "cell_type": "markdown",
      "metadata": {
        "id": "e29790d8"
      },
      "source": [
        "now data is well distributed"
      ],
      "id": "e29790d8"
    },
    {
      "cell_type": "code",
      "execution_count": null,
      "metadata": {
        "colab": {
          "background_save": true
        },
        "id": "6a693b0a"
      },
      "outputs": [],
      "source": [
        "data.columns"
      ],
      "id": "6a693b0a"
    },
    {
      "cell_type": "code",
      "execution_count": null,
      "metadata": {
        "colab": {
          "background_save": true
        },
        "id": "20329ca9",
        "scrolled": true
      },
      "outputs": [],
      "source": [
        "sns.heatmap(data.isnull())\n",
        "plt.title(\"Null values\")\n",
        "plt.show()"
      ],
      "id": "20329ca9"
    },
    {
      "cell_type": "markdown",
      "metadata": {
        "id": "fc09f4b3"
      },
      "source": [
        "heat map shows that data does not contains any null values in it"
      ],
      "id": "fc09f4b3"
    },
    {
      "cell_type": "code",
      "execution_count": null,
      "metadata": {
        "colab": {
          "background_save": true
        },
        "id": "ae0897d8"
      },
      "outputs": [],
      "source": [
        "import warnings\n",
        "warnings.filterwarnings('ignore')"
      ],
      "id": "ae0897d8"
    },
    {
      "cell_type": "code",
      "execution_count": null,
      "metadata": {
        "colab": {
          "background_save": true
        },
        "id": "9ba8f589"
      },
      "outputs": [],
      "source": [
        "#now lets see how data is distributed in each column\n",
        "plt.figure(figsize=(20,25),facecolor='white')\n",
        "plotnumber=1\n",
        "for column in data:\n",
        "    if plotnumber<=19:\n",
        "        ax=plt.subplot(5,4,plotnumber)\n",
        "        sns.distplot(data[column])\n",
        "        plt.xlabel(column,fontsize=20)\n",
        "    plotnumber+=1\n",
        "plt.show()    "
      ],
      "id": "9ba8f589"
    },
    {
      "cell_type": "code",
      "execution_count": null,
      "metadata": {
        "colab": {
          "background_save": true
        },
        "id": "265820d2"
      },
      "outputs": [],
      "source": [
        "# setup figure\n",
        "fig, axes = plt.subplots(nrows=5, ncols=4, figsize=(16, 12))\n",
        "\n",
        "# iterate and plot subplots\n",
        "for xcol, ax in zip(data.columns[1:], [x for v in axes for x in v]):\n",
        "    data.plot.scatter(x=xcol, y='buy', ax=ax, alpha=0.5, color='r')\n"
      ],
      "id": "265820d2"
    },
    {
      "cell_type": "code",
      "execution_count": null,
      "metadata": {
        "colab": {
          "background_save": true
        },
        "id": "a63afa75"
      },
      "outputs": [],
      "source": [
        "data.corr()"
      ],
      "id": "a63afa75"
    },
    {
      "cell_type": "code",
      "execution_count": null,
      "metadata": {
        "colab": {
          "background_save": true
        },
        "id": "c5556ebc",
        "scrolled": false
      },
      "outputs": [],
      "source": [
        "#heat map\n",
        "plt.figure(figsize=(22,7))\n",
        "sns.heatmap(data.corr(),annot=True,linewidths=0.1,linecolor='black',fmt='0.2f')"
      ],
      "id": "c5556ebc"
    },
    {
      "cell_type": "markdown",
      "metadata": {
        "id": "a7bcb0db"
      },
      "source": [
        "it shows that correlation of each column with the target column also it gives the positive and negative correlation of data with target column,also from it is clear that some of column has zero correlation and some is havinf negative which has not that much imporatance on target column so lets we will drop it"
      ],
      "id": "a7bcb0db"
    },
    {
      "cell_type": "code",
      "execution_count": null,
      "metadata": {
        "colab": {
          "background_save": true
        },
        "id": "7f9d164d",
        "scrolled": true
      },
      "outputs": [],
      "source": [
        "data.drop(['id','campaign_var_1','campaign_var_2','user_activity_var_6'],axis=1,inplace=True)\n",
        "data.head()"
      ],
      "id": "7f9d164d"
    },
    {
      "cell_type": "markdown",
      "metadata": {
        "id": "a918e7a1"
      },
      "source": [
        "lets we will check the skewness present in our dataset"
      ],
      "id": "a918e7a1"
    },
    {
      "cell_type": "code",
      "execution_count": null,
      "metadata": {
        "colab": {
          "background_save": true
        },
        "id": "968653c6",
        "scrolled": false
      },
      "outputs": [],
      "source": [
        "data.skew()"
      ],
      "id": "968653c6"
    },
    {
      "cell_type": "markdown",
      "metadata": {
        "id": "0f862fbb"
      },
      "source": [
        "so data contains skewness lets will remove it"
      ],
      "id": "0f862fbb"
    },
    {
      "cell_type": "code",
      "execution_count": null,
      "metadata": {
        "colab": {
          "background_save": true
        },
        "id": "d4e6dc47"
      },
      "outputs": [],
      "source": [
        "#making the skew less than or equal to 0.55 for better prediction and plotting Normal distribution\n",
        "skew=('user_activity_var_1','user_activity_var_2','user_activity_var_3','user_activity_var_4','user_activity_var_5','user_activity_var_7','user_activity_var_8','user_activity_var_9','user_activity_var_10','user_activity_var_11','user_activity_var_12')\n",
        "for col in skew :\n",
        "    if data.skew().loc[col]>0.55:\n",
        "        data[col] = np.log1p(data[col])"
      ],
      "id": "d4e6dc47"
    },
    {
      "cell_type": "code",
      "execution_count": null,
      "metadata": {
        "colab": {
          "background_save": true
        },
        "id": "42b276ca"
      },
      "outputs": [],
      "source": [
        "from scipy.stats import zscore\n",
        "import numpy as np\n",
        "z=np.abs(zscore(data))\n",
        "threshold=3\n",
        "np.where(z>3)"
      ],
      "id": "42b276ca"
    },
    {
      "cell_type": "code",
      "execution_count": null,
      "metadata": {
        "colab": {
          "background_save": true
        },
        "id": "48d87e4d"
      },
      "outputs": [],
      "source": [
        "data_new_z=data[(z<3).all(axis=1)]\n",
        "data_new_z"
      ],
      "id": "48d87e4d"
    },
    {
      "cell_type": "code",
      "execution_count": null,
      "metadata": {
        "colab": {
          "background_save": true
        },
        "id": "f413c0ef"
      },
      "outputs": [],
      "source": [
        "data_new_z.shape"
      ],
      "id": "f413c0ef"
    },
    {
      "cell_type": "markdown",
      "metadata": {
        "id": "b807dc07"
      },
      "source": [
        "so after removing the skewness data contains 35795 rows and 15 column in it"
      ],
      "id": "b807dc07"
    },
    {
      "cell_type": "code",
      "execution_count": null,
      "metadata": {
        "colab": {
          "background_save": true
        },
        "id": "8e883bc7"
      },
      "outputs": [],
      "source": [
        "data_new_z.skew()"
      ],
      "id": "8e883bc7"
    },
    {
      "cell_type": "code",
      "execution_count": null,
      "metadata": {
        "colab": {
          "background_save": true
        },
        "id": "44e07a77"
      },
      "outputs": [],
      "source": [
        "#plotting histogram for univariate analysis and checking the Normal Distribution\n",
        "data_new_z.hist(figsize=(20,20), grid = True, layout = (5,3), bins = 30)"
      ],
      "id": "44e07a77"
    },
    {
      "cell_type": "code",
      "execution_count": null,
      "metadata": {
        "colab": {
          "background_save": true
        },
        "id": "2df0c6f2"
      },
      "outputs": [],
      "source": [
        "#visualize the outliers using boxplot\n",
        "plt.figure(figsize=(15,20))\n",
        "graph=1\n",
        "for column in data_new_z:\n",
        "    if graph<15:\n",
        "        ax=plt.subplot(5,3,graph)\n",
        "        sns.boxplot(data_new_z[column],orient='V')\n",
        "        plt.xlabel(column,fontsize=10)\n",
        "        graph+=1\n",
        "plt.show()        "
      ],
      "id": "2df0c6f2"
    },
    {
      "cell_type": "code",
      "execution_count": null,
      "metadata": {
        "colab": {
          "background_save": true
        },
        "id": "fefc2c09",
        "scrolled": true
      },
      "outputs": [],
      "source": [
        "#now lets see how data is distributed in each column\n",
        "plt.figure(figsize=(20,25),facecolor='white')\n",
        "plotnumber=1\n",
        "for column in data:\n",
        "    if plotnumber<=15:\n",
        "        ax=plt.subplot(5,3,plotnumber)\n",
        "        sns.distplot(data[column])\n",
        "        plt.xlabel(column,fontsize=20)\n",
        "    plotnumber+=1\n",
        "plt.show()    "
      ],
      "id": "fefc2c09"
    },
    {
      "cell_type": "markdown",
      "metadata": {
        "id": "0e92d2f5"
      },
      "source": [
        "now lets devide dataset into x,y variable"
      ],
      "id": "0e92d2f5"
    },
    {
      "cell_type": "code",
      "execution_count": null,
      "metadata": {
        "colab": {
          "background_save": true
        },
        "id": "3d885ef3"
      },
      "outputs": [],
      "source": [
        "#devide data set into feature and label\n",
        "y=data['buy']\n",
        "x=data.drop(['buy'],axis=1)"
      ],
      "id": "3d885ef3"
    },
    {
      "cell_type": "code",
      "execution_count": null,
      "metadata": {
        "colab": {
          "background_save": true
        },
        "id": "6801e627"
      },
      "outputs": [],
      "source": [
        "from sklearn.preprocessing import LabelEncoder,StandardScaler"
      ],
      "id": "6801e627"
    },
    {
      "cell_type": "code",
      "execution_count": null,
      "metadata": {
        "colab": {
          "background_save": true
        },
        "id": "321c65ce"
      },
      "outputs": [],
      "source": [
        "#Standardize the value of x so that mean will 0 and SD will become 1 , and make the data as normal distributed\n",
        "sc = StandardScaler()\n",
        "sc.fit_transform(x)\n",
        "x = pd.DataFrame(x,columns=x.columns)"
      ],
      "id": "321c65ce"
    },
    {
      "cell_type": "code",
      "execution_count": null,
      "metadata": {
        "colab": {
          "background_save": true
        },
        "id": "1bec4bcb"
      },
      "outputs": [],
      "source": [
        "from sklearn.metrics import r2_score,mean_absolute_error,mean_squared_error\n",
        "from sklearn.linear_model import LogisticRegression,Lasso,LinearRegression\n",
        "from sklearn.neighbors import KNeighborsRegressor\n",
        "from sklearn.svm import SVR\n",
        "from sklearn.tree import DecisionTreeRegressor\n",
        "from sklearn.ensemble import AdaBoostRegressor,GradientBoostingRegressor\n",
        "from sklearn.preprocessing import LabelEncoder,StandardScaler\n",
        "from sklearn.model_selection import train_test_split,GridSearchCV\n",
        "from sklearn.decomposition import PCA\n",
        "from scipy.stats import zscore\n",
        "from sklearn.model_selection import cross_val_score"
      ],
      "id": "1bec4bcb"
    },
    {
      "cell_type": "code",
      "execution_count": null,
      "metadata": {
        "colab": {
          "background_save": true
        },
        "id": "5697eaed"
      },
      "outputs": [],
      "source": [
        "from sklearn.preprocessing import StandardScaler"
      ],
      "id": "5697eaed"
    },
    {
      "cell_type": "code",
      "execution_count": null,
      "metadata": {
        "colab": {
          "background_save": true
        },
        "id": "cb6f6a41"
      },
      "outputs": [],
      "source": [
        "scalar=StandardScaler()\n",
        "x_scaled=scalar.fit_transform(x)\n",
        "x_scaled"
      ],
      "id": "cb6f6a41"
    },
    {
      "cell_type": "code",
      "execution_count": null,
      "metadata": {
        "colab": {
          "background_save": true
        },
        "id": "8adcb941"
      },
      "outputs": [],
      "source": [
        "x"
      ],
      "id": "8adcb941"
    },
    {
      "cell_type": "code",
      "execution_count": null,
      "metadata": {
        "colab": {
          "background_save": true
        },
        "id": "01ef7aee",
        "scrolled": true
      },
      "outputs": [],
      "source": [
        "y"
      ],
      "id": "01ef7aee"
    },
    {
      "cell_type": "code",
      "execution_count": null,
      "metadata": {
        "colab": {
          "background_save": true
        },
        "id": "59075e43"
      },
      "outputs": [],
      "source": [
        "from sklearn.ensemble import RandomForestClassifier\n",
        "from sklearn.metrics import accuracy_score,confusion_matrix,classification_report\n",
        "from sklearn.tree import DecisionTreeClassifier\n",
        "from sklearn.ensemble import RandomForestClassifier\n",
        "from sklearn.neighbors import KNeighborsClassifier"
      ],
      "id": "59075e43"
    },
    {
      "cell_type": "code",
      "execution_count": null,
      "metadata": {
        "colab": {
          "background_save": true
        },
        "id": "be57a5f2"
      },
      "outputs": [],
      "source": [
        "x_train,x_test,y_train,y_test=train_test_split(x_scaled,y,test_size=0.24,random_state=40)"
      ],
      "id": "be57a5f2"
    },
    {
      "cell_type": "code",
      "execution_count": null,
      "metadata": {
        "colab": {
          "background_save": true
        },
        "id": "d019c009"
      },
      "outputs": [],
      "source": [
        "log_reg=LogisticRegression()\n",
        "log_reg.fit(x_train, y_train)\n",
        "preddt=log_reg.predict(x_test)\n",
        "print(accuracy_score(y_test,preddt))\n",
        "print(confusion_matrix(y_test,preddt))\n",
        "print(classification_report(y_test,preddt))"
      ],
      "id": "d019c009"
    },
    {
      "cell_type": "code",
      "execution_count": null,
      "metadata": {
        "colab": {
          "background_save": true
        },
        "id": "10262957"
      },
      "outputs": [],
      "source": [
        "dt=DecisionTreeClassifier()\n",
        "dt.fit(x_train, y_train)\n",
        "preddt=dt.predict(x_test)\n",
        "print(accuracy_score(y_test,preddt))\n",
        "print(confusion_matrix(y_test,preddt))\n",
        "print(classification_report(y_test,preddt))"
      ],
      "id": "10262957"
    },
    {
      "cell_type": "code",
      "execution_count": null,
      "metadata": {
        "colab": {
          "background_save": true
        },
        "id": "f93248ba"
      },
      "outputs": [],
      "source": [
        "rf=RandomForestClassifier()\n",
        "rf.fit(x_train, y_train)\n",
        "preddt=rf.predict(x_test)\n",
        "print(accuracy_score(y_test,preddt))\n",
        "print(confusion_matrix(y_test,preddt))\n",
        "print(classification_report(y_test,preddt))"
      ],
      "id": "f93248ba"
    },
    {
      "cell_type": "code",
      "execution_count": null,
      "metadata": {
        "colab": {
          "background_save": true
        },
        "id": "253ad982",
        "scrolled": false
      },
      "outputs": [],
      "source": [
        "kn=KNeighborsClassifier()\n",
        "kn.fit(x_train, y_train)\n",
        "preddt=kn.predict(x_test)\n",
        "print(accuracy_score(y_test,preddt))\n",
        "print(confusion_matrix(y_test,preddt))\n",
        "print(classification_report(y_test,preddt))"
      ],
      "id": "253ad982"
    },
    {
      "cell_type": "markdown",
      "metadata": {
        "id": "fa09ce23"
      },
      "source": [
        "from above various algorithm it is found that LogisticRegression() has good accuracy 97% with its suitable confusion matrix which summerises the performance of classification algorithm,it also gives the value of precision,recall,f1-score"
      ],
      "id": "fa09ce23"
    },
    {
      "cell_type": "markdown",
      "metadata": {
        "id": "178ca21f"
      },
      "source": [
        "# AUC-ROC curve"
      ],
      "id": "178ca21f"
    },
    {
      "cell_type": "code",
      "execution_count": null,
      "metadata": {
        "colab": {
          "background_save": true
        },
        "id": "336ff928"
      },
      "outputs": [],
      "source": [
        "from sklearn.metrics import roc_curve,roc_auc_score,plot_roc_curve"
      ],
      "id": "336ff928"
    },
    {
      "cell_type": "code",
      "execution_count": null,
      "metadata": {
        "colab": {
          "background_save": true
        },
        "id": "4cbd5823",
        "scrolled": true
      },
      "outputs": [],
      "source": [
        "disp=plot_roc_curve(log_reg,x_test,y_test)\n",
        "disp=plot_roc_curve(dt,x_test,y_test,ax=disp.ax_)\n",
        "disp=plot_roc_curve(rf,x_test,y_test,ax=disp.ax_)\n",
        "disp=plot_roc_curve(kn,x_test,y_test,ax=disp.ax_)\n",
        "plt.legend(prop={'size':11},loc='lower right')\n",
        "plt.show()"
      ],
      "id": "4cbd5823"
    },
    {
      "cell_type": "markdown",
      "metadata": {
        "id": "aacc240c"
      },
      "source": [
        "from this it is found that LogisticRegression has good accuracy among all also we will cross validate the result further"
      ],
      "id": "aacc240c"
    },
    {
      "cell_type": "code",
      "execution_count": null,
      "metadata": {
        "colab": {
          "background_save": true
        },
        "id": "1ac4b724"
      },
      "outputs": [],
      "source": [
        "log_reg=LogisticRegression()"
      ],
      "id": "1ac4b724"
    },
    {
      "cell_type": "code",
      "execution_count": null,
      "metadata": {
        "colab": {
          "background_save": true
        },
        "id": "dc3563eb"
      },
      "outputs": [],
      "source": [
        "log_reg.fit(x_train,y_train)"
      ],
      "id": "dc3563eb"
    },
    {
      "cell_type": "markdown",
      "metadata": {
        "id": "7712e9c3"
      },
      "source": [
        "# cross validation"
      ],
      "id": "7712e9c3"
    },
    {
      "cell_type": "code",
      "execution_count": null,
      "metadata": {
        "colab": {
          "background_save": true
        },
        "id": "8445d9f8"
      },
      "outputs": [],
      "source": [
        "from sklearn.model_selection import cross_val_score"
      ],
      "id": "8445d9f8"
    },
    {
      "cell_type": "code",
      "execution_count": null,
      "metadata": {
        "colab": {
          "background_save": true
        },
        "id": "00896ec9",
        "scrolled": true
      },
      "outputs": [],
      "source": [
        "for i in range(2,10):\n",
        "    cv=cross_val_score(log_reg,x,y,cv=i)\n",
        "    print(log_reg,cv.mean())"
      ],
      "id": "00896ec9"
    },
    {
      "cell_type": "markdown",
      "metadata": {
        "id": "0dfea5cb"
      },
      "source": [
        "thus we have sucessfully validated the result,we can also predict the output below"
      ],
      "id": "0dfea5cb"
    },
    {
      "cell_type": "code",
      "execution_count": null,
      "metadata": {
        "colab": {
          "background_save": true
        },
        "id": "abfd1eba"
      },
      "outputs": [],
      "source": [
        "#lets plot and visualize\n",
        "y_pred=log_reg.predict(x_test)\n",
        "y_pred"
      ],
      "id": "abfd1eba"
    },
    {
      "cell_type": "markdown",
      "metadata": {
        "id": "8a585108"
      },
      "source": [
        "so it gives the predicted output"
      ],
      "id": "8a585108"
    },
    {
      "cell_type": "code",
      "execution_count": null,
      "metadata": {
        "colab": {
          "background_save": true
        },
        "id": "2643ef74"
      },
      "outputs": [],
      "source": [
        "data.tail(5)"
      ],
      "id": "2643ef74"
    },
    {
      "cell_type": "code",
      "execution_count": null,
      "metadata": {
        "colab": {
          "background_save": true
        },
        "id": "12767e1d",
        "scrolled": true
      },
      "outputs": [],
      "source": [
        "print(' buy is:',log_reg.predict(scalar.transform([[2.000000,0.423036,0.006649,0.089276,0.011272,0.423036,0.526589,0.149097,0.011311,0.000383,0.180640,0.000561,364.0,210.0]])))"
      ],
      "id": "12767e1d"
    },
    {
      "cell_type": "markdown",
      "metadata": {
        "id": "aed02858"
      },
      "source": [
        "# scatter plot"
      ],
      "id": "aed02858"
    },
    {
      "cell_type": "code",
      "execution_count": null,
      "metadata": {
        "colab": {
          "background_save": true
        },
        "id": "1114fee1",
        "scrolled": true
      },
      "outputs": [],
      "source": [
        "plt.scatter(y_test,y_pred)\n",
        "plt.xlabel('actual_label')\n",
        "plt.ylabel('predicted_label')\n",
        "plt.title('actual Vs model prediction')\n",
        "plt.show()"
      ],
      "id": "1114fee1"
    },
    {
      "cell_type": "markdown",
      "metadata": {
        "id": "a10c2bb4"
      },
      "source": [
        "it gives the actual VS predicted output graph"
      ],
      "id": "a10c2bb4"
    },
    {
      "cell_type": "markdown",
      "metadata": {
        "id": "e58eebc2"
      },
      "source": [
        "# Saving Model"
      ],
      "id": "e58eebc2"
    },
    {
      "cell_type": "code",
      "execution_count": null,
      "metadata": {
        "colab": {
          "background_save": true
        },
        "id": "c55256ca"
      },
      "outputs": [],
      "source": [
        "#saving model to the local file system\n",
        "filename='finalized_model_Smart_Lead_Scoring_Engine.pickle'\n",
        "pickle.dump(log_reg,open(filename,'wb'))\n",
        "#prediction using the saved model\n",
        "Loaded_model=pickle.load(open(filename,'rb'))\n",
        "a=Loaded_model.predict(scalar.transform([[2.000000,0.423036,0.006649,0.089276,0.011272,0.423036,0.526589,0.149097,0.011311,0.000383,0.180640,0.000561,364.0,210.0]]))\n",
        "a"
      ],
      "id": "c55256ca"
    },
    {
      "cell_type": "code",
      "execution_count": null,
      "metadata": {
        "colab": {
          "background_save": true
        },
        "id": "c5407cb0"
      },
      "outputs": [],
      "source": [
        "#Adjusted R2 score\n",
        "log_reg.score(x_train,y_train)"
      ],
      "id": "c5407cb0"
    },
    {
      "cell_type": "code",
      "execution_count": null,
      "metadata": {
        "colab": {
          "background_save": true
        },
        "id": "8bc350ee"
      },
      "outputs": [],
      "source": [
        "#check how well model fits the test data\n",
        "log_reg.score(x_test,y_test)"
      ],
      "id": "8bc350ee"
    },
    {
      "cell_type": "code",
      "execution_count": null,
      "metadata": {
        "colab": {
          "background_save": true
        },
        "id": "bb1f3ec2"
      },
      "outputs": [],
      "source": [
        "#lets plot and visualize\n",
        "y_pred=log_reg.predict(x_test)\n",
        "y_pred"
      ],
      "id": "bb1f3ec2"
    },
    {
      "cell_type": "markdown",
      "metadata": {
        "id": "d107d340"
      },
      "source": [
        "# now lets we have test data is also provided from that we will predict the output for saved model"
      ],
      "id": "d107d340"
    },
    {
      "cell_type": "code",
      "execution_count": null,
      "metadata": {
        "colab": {
          "background_save": true
        },
        "id": "15e71212"
      },
      "outputs": [],
      "source": [
        "testdata=pd.read_csv(\"C://Users//SAI BABA//Desktop//Job a thon//test_Wf7sxXF.csv\")\n",
        "testdata.head()"
      ],
      "id": "15e71212"
    },
    {
      "cell_type": "code",
      "execution_count": null,
      "metadata": {
        "colab": {
          "background_save": true
        },
        "id": "aa654e55"
      },
      "outputs": [],
      "source": [
        "testdata.shape"
      ],
      "id": "aa654e55"
    },
    {
      "cell_type": "code",
      "execution_count": null,
      "metadata": {
        "colab": {
          "background_save": true
        },
        "id": "29916b4c"
      },
      "outputs": [],
      "source": [
        "testdata.info()"
      ],
      "id": "29916b4c"
    },
    {
      "cell_type": "code",
      "execution_count": null,
      "metadata": {
        "colab": {
          "background_save": true
        },
        "id": "7184940d"
      },
      "outputs": [],
      "source": [
        "testdata.isnull().sum()"
      ],
      "id": "7184940d"
    },
    {
      "cell_type": "markdown",
      "metadata": {
        "id": "6fd9de3c"
      },
      "source": [
        "# data encoding"
      ],
      "id": "6fd9de3c"
    },
    {
      "cell_type": "code",
      "execution_count": null,
      "metadata": {
        "colab": {
          "background_save": true
        },
        "id": "58acaab3"
      },
      "outputs": [],
      "source": [
        "le=LabelEncoder()\n",
        "label=le.fit_transform(testdata[\"created_at\"])\n",
        "label\n",
        "testdata=testdata.drop(\"created_at\",axis='columns')\n",
        "testdata[\"created_at\"]=label"
      ],
      "id": "58acaab3"
    },
    {
      "cell_type": "code",
      "execution_count": null,
      "metadata": {
        "colab": {
          "background_save": true
        },
        "id": "b206224e"
      },
      "outputs": [],
      "source": [
        "le=LabelEncoder()\n",
        "label=le.fit_transform(testdata[\"signup_date\"])\n",
        "label\n",
        "testdata=testdata.drop(\"signup_date\",axis='columns')\n",
        "testdata[\"signup_date\"]=label\n",
        "testdata"
      ],
      "id": "b206224e"
    },
    {
      "cell_type": "code",
      "execution_count": null,
      "metadata": {
        "colab": {
          "background_save": true
        },
        "id": "1f664611"
      },
      "outputs": [],
      "source": [
        "testdata.isnull().sum()"
      ],
      "id": "1f664611"
    },
    {
      "cell_type": "code",
      "execution_count": null,
      "metadata": {
        "colab": {
          "background_save": true
        },
        "id": "032efb0d"
      },
      "outputs": [],
      "source": [
        "testdata['products_purchased']=testdata['products_purchased'].fillna(testdata['products_purchased'].mode()[0])"
      ],
      "id": "032efb0d"
    },
    {
      "cell_type": "code",
      "execution_count": null,
      "metadata": {
        "colab": {
          "background_save": true
        },
        "id": "e8604515",
        "scrolled": true
      },
      "outputs": [],
      "source": [
        "testdata.isnull().sum()"
      ],
      "id": "e8604515"
    },
    {
      "cell_type": "code",
      "execution_count": null,
      "metadata": {
        "colab": {
          "background_save": true
        },
        "id": "cd45d0cd"
      },
      "outputs": [],
      "source": [
        "testdata.info()"
      ],
      "id": "cd45d0cd"
    },
    {
      "cell_type": "code",
      "execution_count": null,
      "metadata": {
        "colab": {
          "background_save": true
        },
        "id": "80d24cee"
      },
      "outputs": [],
      "source": [
        "testdata.describe()"
      ],
      "id": "80d24cee"
    },
    {
      "cell_type": "code",
      "execution_count": null,
      "metadata": {
        "colab": {
          "background_save": true
        },
        "id": "38229298"
      },
      "outputs": [],
      "source": [
        "testdata['user_activity_var_1']=testdata['user_activity_var_1'].replace(0,testdata['user_activity_var_1'].mean())\n",
        "testdata['user_activity_var_2']=testdata['user_activity_var_2'].replace(0,testdata['user_activity_var_2'].mean())\n",
        "testdata['user_activity_var_3']=testdata['user_activity_var_3'].replace(0,testdata['user_activity_var_3'].mean())\n",
        "testdata['user_activity_var_4']=testdata['user_activity_var_4'].replace(0,testdata['user_activity_var_4'].mean())\n",
        "testdata['user_activity_var_5']=testdata['user_activity_var_5'].replace(0,testdata['user_activity_var_5'].mean())\n",
        "testdata['user_activity_var_6']=testdata['user_activity_var_6'].replace(0,testdata['user_activity_var_6'].mean())\n",
        "testdata['user_activity_var_7']=testdata['user_activity_var_7'].replace(0,testdata['user_activity_var_7'].mean())\n",
        "testdata['user_activity_var_8']=testdata['user_activity_var_8'].replace(0,testdata['user_activity_var_8'].mean())\n",
        "testdata['user_activity_var_9']=testdata['user_activity_var_9'].replace(0,testdata['user_activity_var_9'].mean())\n",
        "testdata['user_activity_var_10']=testdata['user_activity_var_10'].replace(0,testdata['user_activity_var_10'].mean())\n",
        "testdata['user_activity_var_11']=testdata['user_activity_var_11'].replace(0,testdata['user_activity_var_11'].mean())\n",
        "testdata['user_activity_var_12']=testdata['user_activity_var_12'].replace(0,testdata['user_activity_var_12'].mean())\n",
        "testdata['created_at']=testdata['created_at'].replace(0,testdata['created_at'].mean())\n",
        "testdata['signup_date']=testdata['signup_date'].replace(0,testdata['signup_date'].mean())"
      ],
      "id": "38229298"
    },
    {
      "cell_type": "code",
      "execution_count": null,
      "metadata": {
        "colab": {
          "background_save": true
        },
        "id": "4551b820"
      },
      "outputs": [],
      "source": [
        "#heat map\n",
        "plt.figure(figsize=(22,7))\n",
        "sns.heatmap(testdata.corr(),annot=True,linewidths=0.1,linecolor='black',fmt='0.2f')"
      ],
      "id": "4551b820"
    },
    {
      "cell_type": "code",
      "execution_count": null,
      "metadata": {
        "colab": {
          "background_save": true
        },
        "id": "8fe8ffc0"
      },
      "outputs": [],
      "source": [
        "testdata.drop(['id','campaign_var_1','campaign_var_2','user_activity_var_6'],axis=1,inplace=True)\n",
        "testdata.head()"
      ],
      "id": "8fe8ffc0"
    },
    {
      "cell_type": "code",
      "execution_count": null,
      "metadata": {
        "colab": {
          "background_save": true
        },
        "id": "b2996819"
      },
      "outputs": [],
      "source": [
        "testdata.skew()"
      ],
      "id": "b2996819"
    },
    {
      "cell_type": "code",
      "execution_count": null,
      "metadata": {
        "colab": {
          "background_save": true
        },
        "id": "9128a172"
      },
      "outputs": [],
      "source": [
        "#making the skew less than or equal to 0.55 for better prediction and plotting Normal distribution\n",
        "skew=('user_activity_var_1','user_activity_var_2','user_activity_var_3','user_activity_var_4','user_activity_var_5','user_activity_var_7','user_activity_var_8','user_activity_var_9','user_activity_var_10','user_activity_var_11','user_activity_var_12')\n",
        "for col in skew :\n",
        "    if testdata.skew().loc[col]>0.55:\n",
        "        testdata[col] = np.log1p(testdata[col])"
      ],
      "id": "9128a172"
    },
    {
      "cell_type": "code",
      "execution_count": null,
      "metadata": {
        "colab": {
          "background_save": true
        },
        "id": "d2652768"
      },
      "outputs": [],
      "source": [
        "from scipy.stats import zscore\n",
        "import numpy as np\n",
        "z=np.abs(zscore(testdata))\n",
        "threshold=3\n",
        "np.where(z>3)"
      ],
      "id": "d2652768"
    },
    {
      "cell_type": "code",
      "execution_count": null,
      "metadata": {
        "colab": {
          "background_save": true
        },
        "id": "074e983d"
      },
      "outputs": [],
      "source": [
        "testdata_new_z=testdata[(z<3).all(axis=1)]\n",
        "testdata_new_z"
      ],
      "id": "074e983d"
    },
    {
      "cell_type": "code",
      "execution_count": null,
      "metadata": {
        "colab": {
          "background_save": true
        },
        "id": "7cb60c87"
      },
      "outputs": [],
      "source": [
        "testdata_new_z.skew()"
      ],
      "id": "7cb60c87"
    },
    {
      "cell_type": "code",
      "execution_count": null,
      "metadata": {
        "colab": {
          "background_save": true
        },
        "id": "f6b1892e"
      },
      "outputs": [],
      "source": [
        "#saving model to the local file system\n",
        "filename='finalized_model_Smart_Lead_Scoring_Engine.pickle'\n",
        "pickle.dump(log_reg,open(filename,'wb'))\n",
        "#prediction using the saved model\n",
        "Loaded_model=pickle.load(open(filename,'rb'))\n",
        "a=Loaded_model.predict(testdata_new_z)\n",
        "a"
      ],
      "id": "f6b1892e"
    },
    {
      "cell_type": "code",
      "execution_count": null,
      "metadata": {
        "colab": {
          "background_save": true
        },
        "id": "b53bc794"
      },
      "outputs": [],
      "source": [
        "output.to_excel(\"final_output.xlsx\")"
      ],
      "id": "b53bc794"
    },
    {
      "cell_type": "code",
      "execution_count": null,
      "metadata": {
        "colab": {
          "background_save": true
        },
        "id": "ee88e83f"
      },
      "outputs": [],
      "source": [
        ""
      ],
      "id": "ee88e83f"
    }
  ],
  "metadata": {
    "colab": {
      "name": "Smart Lead Scoring Engine (1).ipynb",
      "provenance": [],
      "collapsed_sections": [
        "178ca21f",
        "7712e9c3",
        "aed02858",
        "e58eebc2",
        "d107d340",
        "6fd9de3c"
      ],
      "include_colab_link": true
    },
    "kernelspec": {
      "display_name": "Python 3",
      "language": "python",
      "name": "python3"
    },
    "language_info": {
      "codemirror_mode": {
        "name": "ipython",
        "version": 3
      },
      "file_extension": ".py",
      "mimetype": "text/x-python",
      "name": "python",
      "nbconvert_exporter": "python",
      "pygments_lexer": "ipython3",
      "version": "3.8.8"
    }
  },
  "nbformat": 4,
  "nbformat_minor": 5
}